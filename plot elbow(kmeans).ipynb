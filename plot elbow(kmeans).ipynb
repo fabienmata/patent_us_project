{
 "metadata": {
  "language_info": {
   "codemirror_mode": {
    "name": "ipython",
    "version": 3
   },
   "file_extension": ".py",
   "mimetype": "text/x-python",
   "name": "python",
   "nbconvert_exporter": "python",
   "pygments_lexer": "ipython3",
   "version": 3
  },
  "orig_nbformat": 2
 },
 "nbformat": 4,
 "nbformat_minor": 2,
 "cells": [
  {
   "cell_type": "code",
   "execution_count": null,
   "metadata": {},
   "outputs": [],
   "source": [
    "import pandas as pd \n",
    "import plotly.graph_objects as go\n",
    "import numpy as np\n",
    "from sklearn.cluster import KMeans\n",
    "\n",
    "df = pd.read_excel(\"https://github.com/fabienmata/patent_us_project/blob/master/full_data_test_midterm_100k.xlsx?raw=true\")\n"
   ]
  },
  {
   "cell_type": "code",
   "execution_count": null,
   "metadata": {},
   "outputs": [],
   "source": [
    "def elbow(data): \n",
    "      def cluster(n_clusters):\n",
    "            kmeans = KMeans(n_clusters=n_clusters)\n",
    "            kmeans.fit(data[['latitude','longitude']])\n",
    "            Z = kmeans.predict(data[['latitude','longitude']])\n",
    "            return kmeans, Z\n",
    "\n",
    "      max_clusters = 20\n",
    "      inertias = np.zeros(max_clusters)\n",
    "\n",
    "      for i in list(range(1, max_clusters)):\n",
    "        kmeans, Z = cluster(i)\n",
    "        inertias[i] = kmeans.inertia_\n",
    "\n",
    "      fig = go.Figure()\n",
    "      fig.add_trace(go.Scatter(\n",
    "            x=list(range(1, max_clusters)),\n",
    "            y=inertias[1:]))\n",
    "      fig.update_layout(font_family= 'Rockwell')\n",
    "      showmemyfig = fig.show()\n",
    "      return showmemyfig"
   ]
  },
  {
   "cell_type": "code",
   "execution_count": null,
   "metadata": {},
   "outputs": [],
   "source": [
    "energy = {}\n",
    "for i, group in df.groupby(\"energy\"):\n",
    "  energy[i] = pd.DataFrame(group)\n",
    "\n",
    "for i in myenergy: \n",
    "  elbow(energy[i])"
   ]
  }
 ]
}